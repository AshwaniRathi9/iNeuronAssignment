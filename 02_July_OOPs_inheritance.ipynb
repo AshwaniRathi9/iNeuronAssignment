{
 "cells": [
  {
   "cell_type": "code",
   "execution_count": null,
   "id": "63fc8c64",
   "metadata": {},
   "outputs": [],
   "source": [
    "1: Explain what inheritance is in object-oriented programming and why it is used.\n",
    "    \n",
    ":- Inheritance is a mechanism in object-oriented programming that allows a class to inherit properties and behaviors from another class. \n",
    "It is one of the three primary characteristics of object-oriented programming, along with encapsulation and polymorphism. \n",
    "Inheritance promotes code reuse and establishes relationships between classes.\n",
    "It allows the user to reuse the code whenever possible and reduce its redundancy. \n",
    "Inheritance makes it easier to create and maintain an application, and provides an opportunity to reuse the code functionality and fast implementation time."
   ]
  },
  {
   "cell_type": "code",
   "execution_count": null,
   "id": "7cfc8b2a",
   "metadata": {},
   "outputs": [],
   "source": [
    "2: Discuss the concept of single inheritance and multiple inheritance, highlighting their differences and advantages.\n",
    "    \n",
    ":- Single Inheritance:\n",
    "        \n",
    "Single inheritance is one in which the derived class inherits the single base class either public, private, or protected access specifier.\n",
    "In single inheritance, the derived class uses the features or members of the single base class.\n",
    "These base class members can be accessed by a derived class or child class according to the access specifier specified while inheriting the parent class or base class.\n",
    "\n",
    "Multiple Inheritance:- \n",
    "    \n",
    "Multiple inheritance is one in which the derived class acquires two or more base classes. \n",
    "In multiple inheritance, the derived class is allowed to use the joint features of the inherited base classes.\n",
    "Every base class is inherited by the derived class by notifying the separate access specifier for each of them."
   ]
  },
  {
   "cell_type": "code",
   "execution_count": null,
   "id": "e0b8eb91",
   "metadata": {},
   "outputs": [],
   "source": [
    "3: Explain the terms \"base class\" and \"derived class\" in the context of inheritance.\n",
    "\n",
    ":- In Python inheritance, a new class can be created without making any changes to an already existing class.\n",
    "    The new class is called the derived (child) class, and the class from which it inherits is called the base (parent) class. \n",
    "    The base class is also called a superclass. The derived class inherits features from the base class, and new features can be added to it, resulting in re-usability of code."
   ]
  },
  {
   "cell_type": "code",
   "execution_count": null,
   "id": "f474d1c6",
   "metadata": {},
   "outputs": [],
   "source": [
    "4: What is the significance of the \"protected\" access modifier in inheritance? How does it differ from \"private\" and \"public\" modifiers?\n",
    "\n",
    ":- The protected access modifier is used with inheritance. \n",
    "    It is lighter than private but stronger than public access.\n",
    "    Protected attributes or methods in parent class are inherited in subclasses, meaning subclasses can access the protected attributes and methods.\n",
    "    Protected access modifier restricts access from instances of inherited classes but does not restrict access from methods of inherited classes.\n",
    "    Protected access modifier is accessible within package and outside the package but through inheritance only."
   ]
  },
  {
   "cell_type": "code",
   "execution_count": null,
   "id": "2a50cf33",
   "metadata": {},
   "outputs": [],
   "source": [
    "5: What is the purpose of the \"super\" keyword in inheritance? Provide an example.\n",
    "    \n",
    ":- The super keyword in Java is used as a reference variable to access objects from parent classes, allowing access to parent class constructors, members, and methods in the derived class.\n",
    "    It enables the reuse of code by allowing subclasses to inherit functionality from their parent classes, which promotes the reuse of code and reduces duplication. \n",
    "    The super keyword can also be used to invoke parent class methods, and should be used if a subclass contains the same method as the parent class."
   ]
  },
  {
   "cell_type": "code",
   "execution_count": 1,
   "id": "98710e5a",
   "metadata": {},
   "outputs": [
    {
     "name": "stdout",
     "output_type": "stream",
     "text": [
      "2023 Toyota Camry, Fuel Type: Gasoline\n"
     ]
    }
   ],
   "source": [
    "\"\"\"\n",
    "6: Create a base class called \"Vehicle\" with attributes like \"make\", \"model\", and \"year\".\n",
    "Then, create a derived class called \"Car\" that inherits from \"Vehicle\" and adds an\n",
    "attribute called \"fuel_type\". Implement appropriate methods in both classes.\n",
    "\n",
    "Ans:-\n",
    "\"\"\"\n",
    "class Vehicle:\n",
    "    def __init__(self, make, model, year):\n",
    "        self.make = make\n",
    "        self.model = model\n",
    "        self.year = year\n",
    "\n",
    "    def get_info(self):\n",
    "        return f\"{self.year} {self.make} {self.model}\"\n",
    "\n",
    "class Car(Vehicle):\n",
    "    def __init__(self, make, model, year, fuel_type):\n",
    "        super().__init__(make, model, year)\n",
    "        self.fuel_type = fuel_type\n",
    "\n",
    "    def get_info(self):\n",
    "        return f\"{super().get_info()}, Fuel Type: {self.fuel_type}\"\n",
    "\n",
    "# Example usage:\n",
    "if __name__ == \"__main__\":\n",
    "    my_car = Car(\"Toyota\", \"Camry\", 2023, \"Gasoline\")\n",
    "    print(my_car.get_info())  # Output: \"2023 Toyota Camry, Fuel Type: Gasoline\"\n"
   ]
  },
  {
   "cell_type": "code",
   "execution_count": 2,
   "id": "7c76346c",
   "metadata": {},
   "outputs": [
    {
     "name": "stdout",
     "output_type": "stream",
     "text": [
      "Name: John Smith, Salary: $80000.00, Department: IT\n",
      "Name: Alice Johnson, Salary: $65000.00, Programming Language: Python\n"
     ]
    }
   ],
   "source": [
    "\"\"\"\n",
    "7: Create a base class called \"Employee\" with attributes like \"name\" and \"salary.\"\n",
    "Derive two classes, \"Manager\" and \"Developer,\" from \"Employee.\" Add an additional\n",
    "attribute called \"department\" for the \"Manager\" class and \"programming_language\"\n",
    "for the \"Developer\" class.\n",
    "\n",
    "Ans:- \n",
    "\n",
    "\"\"\"\n",
    "\n",
    "class Employee:\n",
    "    def __init__(self, name, salary):\n",
    "        self.name = name\n",
    "        self.salary = salary\n",
    "\n",
    "    def get_info(self):\n",
    "        return f\"Name: {self.name}, Salary: ${self.salary:.2f}\"\n",
    "\n",
    "class Manager(Employee):\n",
    "    def __init__(self, name, salary, department):\n",
    "        super().__init__(name, salary)\n",
    "        self.department = department\n",
    "\n",
    "    def get_info(self):\n",
    "        return f\"{super().get_info()}, Department: {self.department}\"\n",
    "\n",
    "class Developer(Employee):\n",
    "    def __init__(self, name, salary, programming_language):\n",
    "        super().__init__(name, salary)\n",
    "        self.programming_language = programming_language\n",
    "\n",
    "    def get_info(self):\n",
    "        return f\"{super().get_info()}, Programming Language: {self.programming_language}\"\n",
    "\n",
    "\n",
    "if __name__ == \"__main__\":\n",
    "    manager = Manager(\"John Smith\", 80000, \"IT\")\n",
    "    developer = Developer(\"Alice Johnson\", 65000, \"Python\")\n",
    "\n",
    "    print(manager.get_info())    # Output: \"Name: John Smith, Salary: $80000.00, Department: IT\"\n",
    "    print(developer.get_info())  # Output: \"Name: Alice Johnson, Salary: $65000.00, Programming Language: Python\"\n"
   ]
  },
  {
   "cell_type": "code",
   "execution_count": 3,
   "id": "58dab6f5",
   "metadata": {},
   "outputs": [
    {
     "name": "stdout",
     "output_type": "stream",
     "text": [
      "Colour: Red, Border Width: 2, Length: 10, Width: 5\n",
      "Colour: Blue, Border Width: 1, Radius: 7\n"
     ]
    }
   ],
   "source": [
    "'''\n",
    "8. Design a base class called \"Shape\" with attributes like \"colour\" and \"border_width.\"\n",
    "Create derived classes, \"Rectangle\" and \"Circle,\" that inherit from \"Shape\" and add\n",
    "specific attributes like \"length\" and \"width\" for the \"Rectangle\" class and \"radius\" for\n",
    "the \"Circle\" class.\n",
    "\n",
    "Ans:- \n",
    "\n",
    "'''\n",
    "\n",
    "class Shape:\n",
    "    def __init__(self, colour, border_width):\n",
    "        self.colour = colour\n",
    "        self.border_width = border_width\n",
    "\n",
    "    def get_info(self):\n",
    "        return f\"Colour: {self.colour}, Border Width: {self.border_width}\"\n",
    "\n",
    "class Rectangle(Shape):\n",
    "    def __init__(self, colour, border_width, length, width):\n",
    "        super().__init__(colour, border_width)\n",
    "        self.length = length\n",
    "        self.width = width\n",
    "\n",
    "    def get_info(self):\n",
    "        return f\"{super().get_info()}, Length: {self.length}, Width: {self.width}\"\n",
    "\n",
    "class Circle(Shape):\n",
    "    def __init__(self, colour, border_width, radius):\n",
    "        super().__init__(colour, border_width)\n",
    "        self.radius = radius\n",
    "\n",
    "    def get_info(self):\n",
    "        return f\"{super().get_info()}, Radius: {self.radius}\"\n",
    "\n",
    "\n",
    "if __name__ == \"__main__\":\n",
    "    rectangle = Rectangle(\"Red\", 2, 10, 5)\n",
    "    circle = Circle(\"Blue\", 1, 7)\n",
    "\n",
    "    print(rectangle.get_info())  # Output: \"Colour: Red, Border Width: 2, Length: 10, Width: 5\"\n",
    "    print(circle.get_info())     # Output: \"Colour: Blue, Border Width: 1, Radius: 7\"\n"
   ]
  },
  {
   "cell_type": "code",
   "execution_count": 4,
   "id": "05bc732b",
   "metadata": {},
   "outputs": [
    {
     "name": "stdout",
     "output_type": "stream",
     "text": [
      "Brand: Apple, Model: iPhone 13, Screen Size: 6.1 inches\n",
      "Brand: Samsung, Model: Galaxy Tab S7, Battery Capacity: 8000 mAh\n"
     ]
    }
   ],
   "source": [
    "'''\n",
    "9. Create a base class called \"Device\" with attributes like \"brand\" and \"model.\" Derive\n",
    "two classes, \"Phone\" and \"Tablet,\" from \"Device.\" Add specific attributes like\n",
    "\"screen_size\" for the \"Phone\" class and \"battery_capacity\" for the \"Tablet\" class.\n",
    "\n",
    "Ans:-\n",
    "\n",
    "'''\n",
    "\n",
    "class Device:\n",
    "    def __init__(self, brand, model):\n",
    "        self.brand = brand\n",
    "        self.model = model\n",
    "\n",
    "    def get_info(self):\n",
    "        return f\"Brand: {self.brand}, Model: {self.model}\"\n",
    "\n",
    "class Phone(Device):\n",
    "    def __init__(self, brand, model, screen_size):\n",
    "        super().__init__(brand, model)\n",
    "        self.screen_size = screen_size\n",
    "\n",
    "    def get_info(self):\n",
    "        return f\"{super().get_info()}, Screen Size: {self.screen_size} inches\"\n",
    "\n",
    "class Tablet(Device):\n",
    "    def __init__(self, brand, model, battery_capacity):\n",
    "        super().__init__(brand, model)\n",
    "        self.battery_capacity = battery_capacity\n",
    "\n",
    "    def get_info(self):\n",
    "        return f\"{super().get_info()}, Battery Capacity: {self.battery_capacity} mAh\"\n",
    "\n",
    "    \n",
    "if __name__ == \"__main__\":\n",
    "    phone = Phone(\"Apple\", \"iPhone 13\", 6.1)\n",
    "    tablet = Tablet(\"Samsung\", \"Galaxy Tab S7\", 8000)\n",
    "\n",
    "    print(phone.get_info())   # Output: \"Brand: Apple, Model: iPhone 13, Screen Size: 6.1 inches\"\n",
    "    print(tablet.get_info())  # Output: \"Brand: Samsung, Model: Galaxy Tab S7, Battery Capacity: 8000 mAh\"\n"
   ]
  },
  {
   "cell_type": "code",
   "execution_count": 5,
   "id": "14e626bf",
   "metadata": {},
   "outputs": [
    {
     "name": "stdout",
     "output_type": "stream",
     "text": [
      "Savings Account Balance: $1025.00\n",
      "Checking Account Balance: $1490.00\n"
     ]
    }
   ],
   "source": [
    "'''\n",
    "10: Create a base class called \"BankAccount\" with attributes like \"account_number\" and\n",
    "\"balance.\" Derive two classes, \"SavingsAccount\" and \"CheckingAccount,\" from\n",
    "\"BankAccount.\" Add specific methods like \"calculate_interest\" for the\n",
    "\"SavingsAccount\" class and \"deduct_fees\" for the \"CheckingAccount\" class.\n",
    "\n",
    "\n",
    "Ans:-\n",
    "\n",
    "'''\n",
    "\n",
    "\n",
    "class BankAccount:\n",
    "    def __init__(self, account_number, balance):\n",
    "        self.account_number = account_number\n",
    "        self.balance = balance\n",
    "\n",
    "    def deposit(self, amount):\n",
    "        self.balance += amount\n",
    "\n",
    "    def withdraw(self, amount):\n",
    "        if amount <= self.balance:\n",
    "            self.balance -= amount\n",
    "        else:\n",
    "            print(\"Insufficient funds\")\n",
    "\n",
    "    def get_balance(self):\n",
    "        return self.balance\n",
    "\n",
    "class SavingsAccount(BankAccount):\n",
    "    def __init__(self, account_number, balance, interest_rate):\n",
    "        super().__init__(account_number, balance)\n",
    "        self.interest_rate = interest_rate\n",
    "\n",
    "    def calculate_interest(self):\n",
    "        interest = self.balance * (self.interest_rate / 100)\n",
    "        self.deposit(interest)\n",
    "\n",
    "class CheckingAccount(BankAccount):\n",
    "    def __init__(self, account_number, balance, fee):\n",
    "        super().__init__(account_number, balance)\n",
    "        self.fee = fee\n",
    "\n",
    "    def deduct_fees(self):\n",
    "        self.withdraw(self.fee)\n",
    "\n",
    "if __name__ == \"__main__\":\n",
    "    savings_account = SavingsAccount(\"SA12345\", 1000, 2.5)\n",
    "    checking_account = CheckingAccount(\"CA67890\", 1500, 10)\n",
    "\n",
    "    savings_account.calculate_interest()\n",
    "    checking_account.deduct_fees()\n",
    "\n",
    "    print(f\"Savings Account Balance: ${savings_account.get_balance():.2f}\")    # Output: \"Savings Account Balance: $1025.00\"\n",
    "    print(f\"Checking Account Balance: ${checking_account.get_balance():.2f}\")  # Output: \"Checking Account Balance: $1490.00\"\n"
   ]
  },
  {
   "cell_type": "code",
   "execution_count": null,
   "id": "bfbac7f2",
   "metadata": {},
   "outputs": [],
   "source": []
  }
 ],
 "metadata": {
  "kernelspec": {
   "display_name": "Python 3 (ipykernel)",
   "language": "python",
   "name": "python3"
  },
  "language_info": {
   "codemirror_mode": {
    "name": "ipython",
    "version": 3
   },
   "file_extension": ".py",
   "mimetype": "text/x-python",
   "name": "python",
   "nbconvert_exporter": "python",
   "pygments_lexer": "ipython3",
   "version": "3.11.3"
  }
 },
 "nbformat": 4,
 "nbformat_minor": 5
}
